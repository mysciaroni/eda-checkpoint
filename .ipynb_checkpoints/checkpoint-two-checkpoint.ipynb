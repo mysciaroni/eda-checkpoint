{
 "cells": [
  {
   "cell_type": "markdown",
   "metadata": {
    "azdata_cell_guid": "151601c9-ca7a-412e-af80-c62a87e0837e"
   },
   "source": [
    "# Checkpoint Two: Exploratory Data Analysis\n",
    "\n",
    "Now that your chosen dataset is approved, it is time to start working on your analysis. Use this notebook to perform your EDA and make notes where directed to as you work.\n",
    "\n",
    "## Getting Started\n",
    "\n",
    "Since we have not provided your dataset for you, you will need to load the necessary files in this repository. Make sure to include a link back to the original dataset here as well.\n",
    "\n",
    "My dataset:\n",
    "\n",
    "Your first task in EDA is to import necessary libraries and create a dataframe(s). Make note in the form of code comments of what your thought process is as you work on this setup task."
   ]
  },
  {
   "cell_type": "code",
   "execution_count": 43,
   "metadata": {
    "azdata_cell_guid": "7b503e37-6df5-4433-acfb-678b1346db14"
   },
   "outputs": [],
   "source": [
    "import pandas as pd\n",
    "import sqlite3\n",
    "import matplotlib.pyplot as plt\n",
    "import seaborn as sns\n",
    "import numpy as np\n",
    "\n",
    "con = sqlite3.connect(\"pokemon-tcg-database.sqlite3\")\n"
   ]
  },
  {
   "cell_type": "markdown",
   "metadata": {
    "azdata_cell_guid": "129ce836-524b-4ea8-b394-a959f9308d6a"
   },
   "source": [
    "## Get to Know the Numbers\n",
    "\n",
    "Now that you have everything setup, put any code that you use to get to know the dataframe and its rows and columns better in the cell below. You can use whatever techniques you like, except for visualizations. You will put those in a separate section.\n",
    "\n",
    "When working on your code, make sure to leave comments so that your mentors can understand your thought process."
   ]
  },
  {
   "cell_type": "code",
   "execution_count": 26,
   "metadata": {
    "azdata_cell_guid": "0ca2d318-f6e8-43ef-a33e-5304d24d928d",
    "tags": []
   },
   "outputs": [
    {
     "data": {
      "text/html": [
       "<div>\n",
       "<style scoped>\n",
       "    .dataframe tbody tr th:only-of-type {\n",
       "        vertical-align: middle;\n",
       "    }\n",
       "\n",
       "    .dataframe tbody tr th {\n",
       "        vertical-align: top;\n",
       "    }\n",
       "\n",
       "    .dataframe thead th {\n",
       "        text-align: right;\n",
       "    }\n",
       "</style>\n",
       "<table border=\"1\" class=\"dataframe\">\n",
       "  <thead>\n",
       "    <tr style=\"text-align: right;\">\n",
       "      <th></th>\n",
       "      <th>id_diamond_and_pearl_pokedex</th>\n",
       "      <th>id_national_index</th>\n",
       "      <th>pokemon_name</th>\n",
       "      <th>id_pokedex_type_1</th>\n",
       "      <th>id_pokedex_type_2</th>\n",
       "    </tr>\n",
       "  </thead>\n",
       "  <tbody>\n",
       "    <tr>\n",
       "      <th>0</th>\n",
       "      <td>#001</td>\n",
       "      <td>1</td>\n",
       "      <td>Bulbasaur</td>\n",
       "      <td>11</td>\n",
       "      <td>15.0</td>\n",
       "    </tr>\n",
       "    <tr>\n",
       "      <th>1</th>\n",
       "      <td>#002</td>\n",
       "      <td>2</td>\n",
       "      <td>Ivysaur</td>\n",
       "      <td>11</td>\n",
       "      <td>15.0</td>\n",
       "    </tr>\n",
       "    <tr>\n",
       "      <th>2</th>\n",
       "      <td>#003</td>\n",
       "      <td>3</td>\n",
       "      <td>Venusaur</td>\n",
       "      <td>11</td>\n",
       "      <td>15.0</td>\n",
       "    </tr>\n",
       "    <tr>\n",
       "      <th>3</th>\n",
       "      <td>#004</td>\n",
       "      <td>4</td>\n",
       "      <td>Charmander</td>\n",
       "      <td>8</td>\n",
       "      <td>NaN</td>\n",
       "    </tr>\n",
       "    <tr>\n",
       "      <th>4</th>\n",
       "      <td>#005</td>\n",
       "      <td>5</td>\n",
       "      <td>Charmeleon</td>\n",
       "      <td>8</td>\n",
       "      <td>NaN</td>\n",
       "    </tr>\n",
       "  </tbody>\n",
       "</table>\n",
       "</div>"
      ],
      "text/plain": [
       "  id_diamond_and_pearl_pokedex  id_national_index pokemon_name  \\\n",
       "0                         #001                  1    Bulbasaur   \n",
       "1                         #002                  2      Ivysaur   \n",
       "2                         #003                  3     Venusaur   \n",
       "3                         #004                  4   Charmander   \n",
       "4                         #005                  5   Charmeleon   \n",
       "\n",
       "   id_pokedex_type_1  id_pokedex_type_2  \n",
       "0                 11               15.0  \n",
       "1                 11               15.0  \n",
       "2                 11               15.0  \n",
       "3                  8                NaN  \n",
       "4                  8                NaN  "
      ]
     },
     "execution_count": 26,
     "metadata": {},
     "output_type": "execute_result"
    }
   ],
   "source": [
    "df = pd.read_sql_query(\"SELECT * from diamond_and_pearl_pokedex\", con)\n",
    "df.head()\n",
    "# As there are many tables within this database, I chose this one as I was interested to see what it was about and wanted to make\n",
    "# sure that I had imported the correct libraries and was reading the correct file for my database"
   ]
  },
  {
   "cell_type": "code",
   "execution_count": 27,
   "metadata": {},
   "outputs": [
    {
     "data": {
      "text/html": [
       "<div>\n",
       "<style scoped>\n",
       "    .dataframe tbody tr th:only-of-type {\n",
       "        vertical-align: middle;\n",
       "    }\n",
       "\n",
       "    .dataframe tbody tr th {\n",
       "        vertical-align: top;\n",
       "    }\n",
       "\n",
       "    .dataframe thead th {\n",
       "        text-align: right;\n",
       "    }\n",
       "</style>\n",
       "<table border=\"1\" class=\"dataframe\">\n",
       "  <thead>\n",
       "    <tr style=\"text-align: right;\">\n",
       "      <th></th>\n",
       "      <th>id_energy_card</th>\n",
       "      <th>card_number</th>\n",
       "      <th>card_number_special</th>\n",
       "      <th>id_rarity</th>\n",
       "      <th>id_energy</th>\n",
       "      <th>id_energy_special</th>\n",
       "      <th>id_set</th>\n",
       "      <th>id_extended_attributes_lookup</th>\n",
       "      <th>artist</th>\n",
       "      <th>text</th>\n",
       "      <th>...</th>\n",
       "      <th>Fixed</th>\n",
       "      <th>Shining</th>\n",
       "      <th>Secret Count</th>\n",
       "      <th>Series Crossover</th>\n",
       "      <th>special_pokemon_types</th>\n",
       "      <th>Full Art</th>\n",
       "      <th>Gold Star</th>\n",
       "      <th>Regular Art</th>\n",
       "      <th>special_pokemon</th>\n",
       "      <th>Prism</th>\n",
       "    </tr>\n",
       "  </thead>\n",
       "  <tbody>\n",
       "    <tr>\n",
       "      <th>0</th>\n",
       "      <td>1</td>\n",
       "      <td>96</td>\n",
       "      <td>NaN</td>\n",
       "      <td>2</td>\n",
       "      <td>10</td>\n",
       "      <td>1.0</td>\n",
       "      <td>1</td>\n",
       "      <td>NaN</td>\n",
       "      <td>3</td>\n",
       "      <td>Provides energy. Doesn't count as a basic ener...</td>\n",
       "      <td>...</td>\n",
       "      <td>NaN</td>\n",
       "      <td>NaN</td>\n",
       "      <td>NaN</td>\n",
       "      <td>NaN</td>\n",
       "      <td>NaN</td>\n",
       "      <td>NaN</td>\n",
       "      <td>NaN</td>\n",
       "      <td>NaN</td>\n",
       "      <td>NaN</td>\n",
       "      <td>NaN</td>\n",
       "    </tr>\n",
       "    <tr>\n",
       "      <th>1</th>\n",
       "      <td>2</td>\n",
       "      <td>97</td>\n",
       "      <td>NaN</td>\n",
       "      <td>1</td>\n",
       "      <td>1</td>\n",
       "      <td>NaN</td>\n",
       "      <td>1</td>\n",
       "      <td>NaN</td>\n",
       "      <td>3</td>\n",
       "      <td>NaN</td>\n",
       "      <td>...</td>\n",
       "      <td>NaN</td>\n",
       "      <td>NaN</td>\n",
       "      <td>NaN</td>\n",
       "      <td>NaN</td>\n",
       "      <td>NaN</td>\n",
       "      <td>NaN</td>\n",
       "      <td>NaN</td>\n",
       "      <td>NaN</td>\n",
       "      <td>NaN</td>\n",
       "      <td>NaN</td>\n",
       "    </tr>\n",
       "    <tr>\n",
       "      <th>2</th>\n",
       "      <td>3</td>\n",
       "      <td>98</td>\n",
       "      <td>NaN</td>\n",
       "      <td>1</td>\n",
       "      <td>2</td>\n",
       "      <td>NaN</td>\n",
       "      <td>1</td>\n",
       "      <td>NaN</td>\n",
       "      <td>3</td>\n",
       "      <td>NaN</td>\n",
       "      <td>...</td>\n",
       "      <td>NaN</td>\n",
       "      <td>NaN</td>\n",
       "      <td>NaN</td>\n",
       "      <td>NaN</td>\n",
       "      <td>NaN</td>\n",
       "      <td>NaN</td>\n",
       "      <td>NaN</td>\n",
       "      <td>NaN</td>\n",
       "      <td>NaN</td>\n",
       "      <td>NaN</td>\n",
       "    </tr>\n",
       "    <tr>\n",
       "      <th>3</th>\n",
       "      <td>4</td>\n",
       "      <td>99</td>\n",
       "      <td>NaN</td>\n",
       "      <td>1</td>\n",
       "      <td>3</td>\n",
       "      <td>NaN</td>\n",
       "      <td>1</td>\n",
       "      <td>NaN</td>\n",
       "      <td>3</td>\n",
       "      <td>NaN</td>\n",
       "      <td>...</td>\n",
       "      <td>NaN</td>\n",
       "      <td>NaN</td>\n",
       "      <td>NaN</td>\n",
       "      <td>NaN</td>\n",
       "      <td>NaN</td>\n",
       "      <td>NaN</td>\n",
       "      <td>NaN</td>\n",
       "      <td>NaN</td>\n",
       "      <td>NaN</td>\n",
       "      <td>NaN</td>\n",
       "    </tr>\n",
       "    <tr>\n",
       "      <th>4</th>\n",
       "      <td>5</td>\n",
       "      <td>100</td>\n",
       "      <td>NaN</td>\n",
       "      <td>1</td>\n",
       "      <td>4</td>\n",
       "      <td>NaN</td>\n",
       "      <td>1</td>\n",
       "      <td>NaN</td>\n",
       "      <td>3</td>\n",
       "      <td>NaN</td>\n",
       "      <td>...</td>\n",
       "      <td>NaN</td>\n",
       "      <td>NaN</td>\n",
       "      <td>NaN</td>\n",
       "      <td>NaN</td>\n",
       "      <td>NaN</td>\n",
       "      <td>NaN</td>\n",
       "      <td>NaN</td>\n",
       "      <td>NaN</td>\n",
       "      <td>NaN</td>\n",
       "      <td>NaN</td>\n",
       "    </tr>\n",
       "  </tbody>\n",
       "</table>\n",
       "<p>5 rows × 23 columns</p>\n",
       "</div>"
      ],
      "text/plain": [
       "   id_energy_card  card_number  card_number_special  id_rarity  id_energy  \\\n",
       "0               1           96                  NaN          2         10   \n",
       "1               2           97                  NaN          1          1   \n",
       "2               3           98                  NaN          1          2   \n",
       "3               4           99                  NaN          1          3   \n",
       "4               5          100                  NaN          1          4   \n",
       "\n",
       "   id_energy_special  id_set  id_extended_attributes_lookup  artist  \\\n",
       "0                1.0       1                            NaN       3   \n",
       "1                NaN       1                            NaN       3   \n",
       "2                NaN       1                            NaN       3   \n",
       "3                NaN       1                            NaN       3   \n",
       "4                NaN       1                            NaN       3   \n",
       "\n",
       "                                                text  ... Fixed  Shining  \\\n",
       "0  Provides energy. Doesn't count as a basic ener...  ...   NaN      NaN   \n",
       "1                                                NaN  ...   NaN      NaN   \n",
       "2                                                NaN  ...   NaN      NaN   \n",
       "3                                                NaN  ...   NaN      NaN   \n",
       "4                                                NaN  ...   NaN      NaN   \n",
       "\n",
       "   Secret Count  Series Crossover  special_pokemon_types  Full Art  Gold Star  \\\n",
       "0           NaN               NaN                    NaN       NaN        NaN   \n",
       "1           NaN               NaN                    NaN       NaN        NaN   \n",
       "2           NaN               NaN                    NaN       NaN        NaN   \n",
       "3           NaN               NaN                    NaN       NaN        NaN   \n",
       "4           NaN               NaN                    NaN       NaN        NaN   \n",
       "\n",
       "   Regular Art  special_pokemon  Prism  \n",
       "0          NaN              NaN    NaN  \n",
       "1          NaN              NaN    NaN  \n",
       "2          NaN              NaN    NaN  \n",
       "3          NaN              NaN    NaN  \n",
       "4          NaN              NaN    NaN  \n",
       "\n",
       "[5 rows x 23 columns]"
      ]
     },
     "execution_count": 27,
     "metadata": {},
     "output_type": "execute_result"
    }
   ],
   "source": [
    "energy_card = pd.read_csv('data\\energy_card.txt', delimiter='\\t')\n",
    "energy_card.head()\n",
    "# I was interested to see what the energy_card table included. It appears that it needs a lot of cleaning to better understand it."
   ]
  },
  {
   "cell_type": "code",
   "execution_count": 29,
   "metadata": {},
   "outputs": [
    {
     "name": "stdout",
     "output_type": "stream",
     "text": [
      "<class 'pandas.core.frame.DataFrame'>\n",
      "RangeIndex: 293 entries, 0 to 292\n",
      "Data columns (total 23 columns):\n",
      " #   Column                         Non-Null Count  Dtype  \n",
      "---  ------                         --------------  -----  \n",
      " 0   id_energy_card                 293 non-null    int64  \n",
      " 1   card_number                    293 non-null    int64  \n",
      " 2   card_number_special            0 non-null      float64\n",
      " 3   id_rarity                      293 non-null    int64  \n",
      " 4   id_energy                      293 non-null    int64  \n",
      " 5   id_energy_special              157 non-null    float64\n",
      " 6   id_set                         293 non-null    int64  \n",
      " 7   id_extended_attributes_lookup  3 non-null      float64\n",
      " 8   artist                         293 non-null    int64  \n",
      " 9   text                           156 non-null    object \n",
      " 10  additionalRule1                2 non-null      object \n",
      " 11  Holofoil                       23 non-null     float64\n",
      " 12  Promo                          0 non-null      float64\n",
      " 13  Fixed                          0 non-null      float64\n",
      " 14  Shining                        0 non-null      float64\n",
      " 15  Secret Count                   20 non-null     float64\n",
      " 16  Series Crossover               0 non-null      float64\n",
      " 17  special_pokemon_types          2 non-null      float64\n",
      " 18  Full Art                       0 non-null      float64\n",
      " 19  Gold Star                      0 non-null      float64\n",
      " 20  Regular Art                    0 non-null      float64\n",
      " 21  special_pokemon                0 non-null      float64\n",
      " 22  Prism                          2 non-null      float64\n",
      "dtypes: float64(15), int64(6), object(2)\n",
      "memory usage: 52.8+ KB\n"
     ]
    }
   ],
   "source": [
    "energy_card.info()\n",
    "# there are so many null values here. This either needs a lot of cleaning or needs to be joined to another table to make more sense"
   ]
  },
  {
   "cell_type": "code",
   "execution_count": 30,
   "metadata": {},
   "outputs": [
    {
     "data": {
      "text/html": [
       "<div>\n",
       "<style scoped>\n",
       "    .dataframe tbody tr th:only-of-type {\n",
       "        vertical-align: middle;\n",
       "    }\n",
       "\n",
       "    .dataframe tbody tr th {\n",
       "        vertical-align: top;\n",
       "    }\n",
       "\n",
       "    .dataframe thead th {\n",
       "        text-align: right;\n",
       "    }\n",
       "</style>\n",
       "<table border=\"1\" class=\"dataframe\">\n",
       "  <thead>\n",
       "    <tr style=\"text-align: right;\">\n",
       "      <th></th>\n",
       "      <th>id_pokedex</th>\n",
       "      <th>id_pokemon_region</th>\n",
       "      <th>region_number</th>\n",
       "      <th>national_index</th>\n",
       "      <th>alternative_name</th>\n",
       "      <th>name</th>\n",
       "      <th>id_pokedex_type_1</th>\n",
       "      <th>id_pokedex_type_2</th>\n",
       "      <th>id_generation</th>\n",
       "    </tr>\n",
       "  </thead>\n",
       "  <tbody>\n",
       "    <tr>\n",
       "      <th>0</th>\n",
       "      <td>1</td>\n",
       "      <td>1</td>\n",
       "      <td>1</td>\n",
       "      <td>1</td>\n",
       "      <td>Bulbasaur</td>\n",
       "      <td>Bulbasaur</td>\n",
       "      <td>11</td>\n",
       "      <td>15.0</td>\n",
       "      <td>1</td>\n",
       "    </tr>\n",
       "    <tr>\n",
       "      <th>1</th>\n",
       "      <td>2</td>\n",
       "      <td>1</td>\n",
       "      <td>2</td>\n",
       "      <td>2</td>\n",
       "      <td>Ivysaur</td>\n",
       "      <td>Ivysaur</td>\n",
       "      <td>11</td>\n",
       "      <td>15.0</td>\n",
       "      <td>1</td>\n",
       "    </tr>\n",
       "    <tr>\n",
       "      <th>2</th>\n",
       "      <td>3</td>\n",
       "      <td>1</td>\n",
       "      <td>3</td>\n",
       "      <td>3</td>\n",
       "      <td>Venusaur</td>\n",
       "      <td>Venusaur</td>\n",
       "      <td>11</td>\n",
       "      <td>15.0</td>\n",
       "      <td>1</td>\n",
       "    </tr>\n",
       "    <tr>\n",
       "      <th>3</th>\n",
       "      <td>4</td>\n",
       "      <td>1</td>\n",
       "      <td>4</td>\n",
       "      <td>4</td>\n",
       "      <td>Charmander</td>\n",
       "      <td>Charmander</td>\n",
       "      <td>8</td>\n",
       "      <td>NaN</td>\n",
       "      <td>1</td>\n",
       "    </tr>\n",
       "    <tr>\n",
       "      <th>4</th>\n",
       "      <td>5</td>\n",
       "      <td>1</td>\n",
       "      <td>5</td>\n",
       "      <td>5</td>\n",
       "      <td>Charmeleon</td>\n",
       "      <td>Charmeleon</td>\n",
       "      <td>8</td>\n",
       "      <td>NaN</td>\n",
       "      <td>1</td>\n",
       "    </tr>\n",
       "  </tbody>\n",
       "</table>\n",
       "</div>"
      ],
      "text/plain": [
       "   id_pokedex  id_pokemon_region  region_number  national_index  \\\n",
       "0           1                  1              1               1   \n",
       "1           2                  1              2               2   \n",
       "2           3                  1              3               3   \n",
       "3           4                  1              4               4   \n",
       "4           5                  1              5               5   \n",
       "\n",
       "  alternative_name        name  id_pokedex_type_1  id_pokedex_type_2  \\\n",
       "0        Bulbasaur   Bulbasaur                 11               15.0   \n",
       "1          Ivysaur     Ivysaur                 11               15.0   \n",
       "2         Venusaur    Venusaur                 11               15.0   \n",
       "3       Charmander  Charmander                  8                NaN   \n",
       "4       Charmeleon  Charmeleon                  8                NaN   \n",
       "\n",
       "   id_generation  \n",
       "0              1  \n",
       "1              1  \n",
       "2              1  \n",
       "3              1  \n",
       "4              1  "
      ]
     },
     "execution_count": 30,
     "metadata": {},
     "output_type": "execute_result"
    }
   ],
   "source": [
    "pokedex = pd.read_csv('data\\pokedex.txt', delimiter='\\t')\n",
    "pokedex.head()\n",
    "# looking into some of the tables that are included in the join for pokemon_card table"
   ]
  },
  {
   "cell_type": "code",
   "execution_count": 31,
   "metadata": {},
   "outputs": [
    {
     "name": "stdout",
     "output_type": "stream",
     "text": [
      "<class 'pandas.core.frame.DataFrame'>\n",
      "RangeIndex: 954 entries, 0 to 953\n",
      "Data columns (total 9 columns):\n",
      " #   Column             Non-Null Count  Dtype  \n",
      "---  ------             --------------  -----  \n",
      " 0   id_pokedex         954 non-null    int64  \n",
      " 1   id_pokemon_region  954 non-null    int64  \n",
      " 2   region_number      954 non-null    int64  \n",
      " 3   national_index     954 non-null    int64  \n",
      " 4   alternative_name   954 non-null    object \n",
      " 5   name               954 non-null    object \n",
      " 6   id_pokedex_type_1  954 non-null    int64  \n",
      " 7   id_pokedex_type_2  495 non-null    float64\n",
      " 8   id_generation      954 non-null    int64  \n",
      "dtypes: float64(1), int64(6), object(2)\n",
      "memory usage: 67.2+ KB\n"
     ]
    }
   ],
   "source": [
    "pokedex.info()"
   ]
  },
  {
   "cell_type": "code",
   "execution_count": 48,
   "metadata": {},
   "outputs": [
    {
     "data": {
      "text/html": [
       "<div>\n",
       "<style scoped>\n",
       "    .dataframe tbody tr th:only-of-type {\n",
       "        vertical-align: middle;\n",
       "    }\n",
       "\n",
       "    .dataframe tbody tr th {\n",
       "        vertical-align: top;\n",
       "    }\n",
       "\n",
       "    .dataframe thead th {\n",
       "        text-align: right;\n",
       "    }\n",
       "</style>\n",
       "<table border=\"1\" class=\"dataframe\">\n",
       "  <thead>\n",
       "    <tr style=\"text-align: right;\">\n",
       "      <th></th>\n",
       "      <th>id_attack</th>\n",
       "      <th>name</th>\n",
       "      <th>type_1</th>\n",
       "      <th>type_2</th>\n",
       "      <th>type_3</th>\n",
       "      <th>type_4</th>\n",
       "      <th>type_5</th>\n",
       "      <th>value</th>\n",
       "      <th>text</th>\n",
       "    </tr>\n",
       "  </thead>\n",
       "  <tbody>\n",
       "    <tr>\n",
       "      <th>0</th>\n",
       "      <td>1</td>\n",
       "      <td>(-) Boost</td>\n",
       "      <td>4.0</td>\n",
       "      <td>10.0</td>\n",
       "      <td>NaN</td>\n",
       "      <td>NaN</td>\n",
       "      <td>NaN</td>\n",
       "      <td>20+</td>\n",
       "      <td>If Minun is on your Bench, this attack does 20...</td>\n",
       "    </tr>\n",
       "    <tr>\n",
       "      <th>1</th>\n",
       "      <td>2</td>\n",
       "      <td>(+) Spark</td>\n",
       "      <td>4.0</td>\n",
       "      <td>10.0</td>\n",
       "      <td>NaN</td>\n",
       "      <td>NaN</td>\n",
       "      <td>NaN</td>\n",
       "      <td>20</td>\n",
       "      <td>If Plusle is on your Bench, this attack does 2...</td>\n",
       "    </tr>\n",
       "    <tr>\n",
       "      <th>2</th>\n",
       "      <td>3</td>\n",
       "      <td>3-D Attack</td>\n",
       "      <td>10.0</td>\n",
       "      <td>NaN</td>\n",
       "      <td>NaN</td>\n",
       "      <td>NaN</td>\n",
       "      <td>NaN</td>\n",
       "      <td>10×</td>\n",
       "      <td>Flip 3 coins. This attack does 10 damage times...</td>\n",
       "    </tr>\n",
       "    <tr>\n",
       "      <th>3</th>\n",
       "      <td>4</td>\n",
       "      <td>3-D Attack</td>\n",
       "      <td>10.0</td>\n",
       "      <td>10.0</td>\n",
       "      <td>NaN</td>\n",
       "      <td>NaN</td>\n",
       "      <td>NaN</td>\n",
       "      <td>20×</td>\n",
       "      <td>Flip 3 coins. This attack does 20 damage times...</td>\n",
       "    </tr>\n",
       "    <tr>\n",
       "      <th>4</th>\n",
       "      <td>5</td>\n",
       "      <td>3-Pronged Tail</td>\n",
       "      <td>10.0</td>\n",
       "      <td>NaN</td>\n",
       "      <td>NaN</td>\n",
       "      <td>NaN</td>\n",
       "      <td>NaN</td>\n",
       "      <td>10×</td>\n",
       "      <td>Flip 3 coins. This attack does 10 damage times...</td>\n",
       "    </tr>\n",
       "  </tbody>\n",
       "</table>\n",
       "</div>"
      ],
      "text/plain": [
       "   id_attack            name  type_1  type_2  type_3  type_4  type_5 value  \\\n",
       "0          1       (-) Boost     4.0    10.0     NaN     NaN     NaN   20+   \n",
       "1          2       (+) Spark     4.0    10.0     NaN     NaN     NaN    20   \n",
       "2          3      3-D Attack    10.0     NaN     NaN     NaN     NaN   10×   \n",
       "3          4      3-D Attack    10.0    10.0     NaN     NaN     NaN   20×   \n",
       "4          5  3-Pronged Tail    10.0     NaN     NaN     NaN     NaN   10×   \n",
       "\n",
       "                                                text  \n",
       "0  If Minun is on your Bench, this attack does 20...  \n",
       "1  If Plusle is on your Bench, this attack does 2...  \n",
       "2  Flip 3 coins. This attack does 10 damage times...  \n",
       "3  Flip 3 coins. This attack does 20 damage times...  \n",
       "4  Flip 3 coins. This attack does 10 damage times...  "
      ]
     },
     "execution_count": 48,
     "metadata": {},
     "output_type": "execute_result"
    }
   ],
   "source": [
    "attack = pd.read_csv('data\\Attack.txt', delimiter='\\t')\n",
    "attack.head()\n",
    "# looking into some of the tables that are included in the join for pokemon_card table"
   ]
  },
  {
   "cell_type": "code",
   "execution_count": 83,
   "metadata": {},
   "outputs": [
    {
     "name": "stdout",
     "output_type": "stream",
     "text": [
      "<class 'pandas.core.frame.DataFrame'>\n",
      "RangeIndex: 11253 entries, 0 to 11252\n",
      "Data columns (total 9 columns):\n",
      " #   Column     Non-Null Count  Dtype  \n",
      "---  ------     --------------  -----  \n",
      " 0   id_attack  11253 non-null  int64  \n",
      " 1   name       11253 non-null  object \n",
      " 2   type_1     11044 non-null  float64\n",
      " 3   type_2     7173 non-null   float64\n",
      " 4   type_3     3900 non-null   float64\n",
      " 5   type_4     844 non-null    float64\n",
      " 6   type_5     68 non-null     float64\n",
      " 7   value      8520 non-null   object \n",
      " 8   text       9446 non-null   object \n",
      "dtypes: float64(5), int64(1), object(3)\n",
      "memory usage: 791.4+ KB\n"
     ]
    }
   ],
   "source": [
    "attack.info()"
   ]
  },
  {
   "cell_type": "code",
   "execution_count": 82,
   "metadata": {},
   "outputs": [
    {
     "data": {
      "text/plain": [
       "4929"
      ]
     },
     "execution_count": 82,
     "metadata": {},
     "output_type": "execute_result"
    }
   ],
   "source": [
    "attack['name'].nunique()\n",
    "# so out of 11253 names, there are 4,929 unique names for the attacks. That helps narrow things down a bit. I will be considering\n",
    "# this when I go to clean this particular tables as there are many null values"
   ]
  },
  {
   "cell_type": "code",
   "execution_count": 57,
   "metadata": {},
   "outputs": [
    {
     "data": {
      "text/html": [
       "<div>\n",
       "<style scoped>\n",
       "    .dataframe tbody tr th:only-of-type {\n",
       "        vertical-align: middle;\n",
       "    }\n",
       "\n",
       "    .dataframe tbody tr th {\n",
       "        vertical-align: top;\n",
       "    }\n",
       "\n",
       "    .dataframe thead th {\n",
       "        text-align: right;\n",
       "    }\n",
       "</style>\n",
       "<table border=\"1\" class=\"dataframe\">\n",
       "  <thead>\n",
       "    <tr style=\"text-align: right;\">\n",
       "      <th></th>\n",
       "      <th>id_action</th>\n",
       "      <th>id_action_type</th>\n",
       "      <th>name</th>\n",
       "      <th>text</th>\n",
       "    </tr>\n",
       "  </thead>\n",
       "  <tbody>\n",
       "    <tr>\n",
       "      <th>0</th>\n",
       "      <td>1</td>\n",
       "      <td>1</td>\n",
       "      <td>[Bear]</td>\n",
       "      <td>Once during your turn (before your attack), yo...</td>\n",
       "    </tr>\n",
       "    <tr>\n",
       "      <th>1</th>\n",
       "      <td>2</td>\n",
       "      <td>1</td>\n",
       "      <td>[Chase]</td>\n",
       "      <td>As long as Unown C is your Active Pokémon, whe...</td>\n",
       "    </tr>\n",
       "    <tr>\n",
       "      <th>2</th>\n",
       "      <td>3</td>\n",
       "      <td>1</td>\n",
       "      <td>[Engage]</td>\n",
       "      <td>When you play Unown E from your hand, your opp...</td>\n",
       "    </tr>\n",
       "    <tr>\n",
       "      <th>3</th>\n",
       "      <td>4</td>\n",
       "      <td>1</td>\n",
       "      <td>[Find]</td>\n",
       "      <td>Once during your turn (before you attack), if ...</td>\n",
       "    </tr>\n",
       "    <tr>\n",
       "      <th>4</th>\n",
       "      <td>5</td>\n",
       "      <td>1</td>\n",
       "      <td>[Give]</td>\n",
       "      <td>Once during your turn (before your attack), if...</td>\n",
       "    </tr>\n",
       "  </tbody>\n",
       "</table>\n",
       "</div>"
      ],
      "text/plain": [
       "   id_action  id_action_type      name  \\\n",
       "0          1               1    [Bear]   \n",
       "1          2               1   [Chase]   \n",
       "2          3               1  [Engage]   \n",
       "3          4               1    [Find]   \n",
       "4          5               1    [Give]   \n",
       "\n",
       "                                                text  \n",
       "0  Once during your turn (before your attack), yo...  \n",
       "1  As long as Unown C is your Active Pokémon, whe...  \n",
       "2  When you play Unown E from your hand, your opp...  \n",
       "3  Once during your turn (before you attack), if ...  \n",
       "4  Once during your turn (before your attack), if...  "
      ]
     },
     "execution_count": 57,
     "metadata": {},
     "output_type": "execute_result"
    }
   ],
   "source": [
    "action = pd.read_csv('data\\Action.txt', delimiter='\\t')\n",
    "action.head()\n",
    "# it's clear with this and other tables, that they need the context of the pokemon_card table to make more sense."
   ]
  },
  {
   "cell_type": "code",
   "execution_count": 59,
   "metadata": {},
   "outputs": [
    {
     "name": "stdout",
     "output_type": "stream",
     "text": [
      "<class 'pandas.core.frame.DataFrame'>\n",
      "RangeIndex: 1778 entries, 0 to 1777\n",
      "Data columns (total 4 columns):\n",
      " #   Column          Non-Null Count  Dtype \n",
      "---  ------          --------------  ----- \n",
      " 0   id_action       1778 non-null   int64 \n",
      " 1   id_action_type  1778 non-null   int64 \n",
      " 2   name            1778 non-null   object\n",
      " 3   text            1778 non-null   object\n",
      "dtypes: int64(2), object(2)\n",
      "memory usage: 55.7+ KB\n"
     ]
    }
   ],
   "source": [
    "action.info()\n",
    "# the action table has no null values. Many of the other tables do, so this is definitely one that I will be using when thinking\n",
    "# more about data manipulation."
   ]
  },
  {
   "cell_type": "code",
   "execution_count": 70,
   "metadata": {},
   "outputs": [
    {
     "data": {
      "text/plain": [
       "0                    [Bear]\n",
       "1                   [Chase]\n",
       "2                  [Engage]\n",
       "3                    [Find]\n",
       "4                    [Give]\n",
       "5                    [Help]\n",
       "6                    [Keep]\n",
       "7                   [Laugh]\n",
       "8                 [Quicken]\n",
       "9                  [Search]\n",
       "10                   [Tell]\n",
       "11                 [Vanish]\n",
       "12                   [Want]\n",
       "13                  [XXXXX]\n",
       "14                  [Yield]\n",
       "15                   [Zoom]\n",
       "16                    Anger\n",
       "17              Bench Guard\n",
       "18                  Berserk\n",
       "19                   Buzzap\n",
       "20            Call the Boss\n",
       "21             Clairvoyance\n",
       "22             Conductivity\n",
       "23                Cowardice\n",
       "24             Crystal Body\n",
       "25                  Cunning\n",
       "26                    Curse\n",
       "27              Damage Swap\n",
       "28                 Darkness\n",
       "29               Deep Sleep\n",
       "30                Drive Off\n",
       "31    Electromagnetic Power\n",
       "32                   Emerge\n",
       "33              Energy Burn\n",
       "34            Energy Charge\n",
       "35         Energy Converter\n",
       "36             Energy Drain\n",
       "37         Energy Evolution\n",
       "38             Energy Trans\n",
       "39       Evolutionary Light\n",
       "40               Final Beam\n",
       "41               Final Blow\n",
       "42               Fire Boost\n",
       "43            Fire Recharge\n",
       "44                     Flee\n",
       "45                Fortitude\n",
       "46                   Fossil\n",
       "47           Fragrance Trap\n",
       "48                   Frenzy\n",
       "49                Frog Song\n",
       "Name: name, dtype: object"
      ]
     },
     "execution_count": 70,
     "metadata": {},
     "output_type": "execute_result"
    }
   ],
   "source": [
    "action['name'].head(50)\n",
    "#each action type is distinct it appears. So there are 1778 of them. That is a lot. I'd be interested to combine the action_type \n",
    "# to the Pokemon's name and visualize that in checkpoint 4"
   ]
  },
  {
   "cell_type": "markdown",
   "metadata": {
    "azdata_cell_guid": "d45060f3-97bc-484a-9ef4-66145bbe9427"
   },
   "source": [
    "## Visualize\n",
    "\n",
    "Create any visualizations for your EDA here. Make note in the form of code comments of what your thought process is for your visualizations."
   ]
  },
  {
   "cell_type": "code",
   "execution_count": 65,
   "metadata": {},
   "outputs": [
    {
     "data": {
      "text/plain": [
       "<AxesSubplot:xlabel='id_action_type', ylabel='Count'>"
      ]
     },
     "execution_count": 65,
     "metadata": {},
     "output_type": "execute_result"
    },
    {
     "data": {
      "image/png": "[encoded data removed]",
      "text/plain": [
       "<Figure size 432x288 with 1 Axes>"
      ]
     },
     "metadata": {
      "needs_background": "light"
     },
     "output_type": "display_data"
    }
   ],
   "source": [
    "sns.histplot(action['id_action_type'])\n",
    "# This is very interesting to me. I am going to do more research with the action types and how pokemon are organized in these types."
   ]
  },
  {
   "cell_type": "code",
   "execution_count": 55,
   "metadata": {},
   "outputs": [
    {
     "data": {
      "text/plain": [
       "<AxesSubplot:xlabel='id_pokedex_type_1', ylabel='Count'>"
      ]
     },
     "execution_count": 55,
     "metadata": {},
     "output_type": "execute_result"
    },
    {
     "data": {
      "image/png": "[encoded data removed]",
      "text/plain": [
       "<Figure size 432x288 with 1 Axes>"
      ]
     },
     "metadata": {
      "needs_background": "light"
     },
     "output_type": "display_data"
    }
   ],
   "source": [
    "sns.histplot(pokedex['id_pokedex_type_1'])\n",
    "# still just kind of exploring here. I was interested in seeing how many of each pokedex id type 1 there were."
   ]
  },
  {
   "cell_type": "code",
   "execution_count": 76,
   "metadata": {
    "azdata_cell_guid": "f4565b03-759a-47a8-b58f-01b32a0b4b67"
   },
   "outputs": [
    {
     "data": {
      "text/plain": [
       "<AxesSubplot:xlabel='value', ylabel='name'>"
      ]
     },
     "execution_count": 76,
     "metadata": {},
     "output_type": "execute_result"
    },
    {
     "data": {
      "image/png": "[encoded data removed]",
      "text/plain": [
       "<Figure size 432x288 with 1 Axes>"
      ]
     },
     "metadata": {
      "needs_background": "light"
     },
     "output_type": "display_data"
    }
   ],
   "source": [
    "top_20_attack = attack.head(20)\n",
    "sns.scatterplot(x=top_20_attack['value'], y=top_20_attack['name'], data = attack)\n",
    "\n",
    "# I am not fully clear as to what I am exploring here. But I find it interesting. I think this would be understood more in the \n",
    "# context of a joined table. This would be part of the joined pokemon_card table that I hope to create and explore more in the\n",
    "# checkpoint 4 after I have cleaned the data in checkpoint 3."
   ]
  },
  {
   "cell_type": "markdown",
   "metadata": {
    "azdata_cell_guid": "d4931c0c-2c09-4ee1-95d4-73dd08c2f0a6"
   },
   "source": [
    "## Summarize Your Results\n",
    "\n",
    "With your EDA complete, answer the following questions.\n",
    "\n",
    "1. Was there anything surprising about your dataset? \n",
    "I discovered that the pokemon_card table is a combination of several tables and I am not able to access it without joining the tables. I will definitely be joining those tables when I manipulate my data. This is a very large dataset as well. I am not necessarily surprised by this, but there is a lot that I do not know here. I will need to do additional research on what some of these labels mean and how they apply to pokemon cards.\n",
    "2. Do you have any concerns about your dataset? \n",
    "It is both very large but also several tables have a lot of null values. I need to be careful when cleaning data not to elminate essential data that will tell me the story I need to share.\n",
    "3. Is there anything you want to make note of for the next phase of your analysis, which is cleaning data? \n",
    "What is going to be most beneficial is assessing the null values of the tables that are included in the pokemon_card table. I think I will need to assess those tables specifically a little more either here or in the data cleaning to determine what to do with those particular null values. There are many and I will need to do some significant cleaning, but I don't want to over-clean in case I eliminate needed data for my goals."
   ]
  }
 ],
 "metadata": {
  "kernelspec": {
   "display_name": "Python 3 (ipykernel)",
   "language": "python",
   "name": "python3"
  },
  "language_info": {
   "codemirror_mode": {
    "name": "ipython",
    "version": 3
   },
   "file_extension": ".py",
   "mimetype": "text/x-python",
   "name": "python",
   "nbconvert_exporter": "python",
   "pygments_lexer": "ipython3",
   "version": "3.9.7"
  }
 },
 "nbformat": 4,
 "nbformat_minor": 2
}
